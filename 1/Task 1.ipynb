{
 "cells": [
  {
   "cell_type": "code",
   "execution_count": 2,
   "metadata": {},
   "outputs": [],
   "source": [
    "import opencorpora\n",
    "\n",
    "file_path = \"dataset_37845_1.txt\""
   ]
  },
  {
   "cell_type": "code",
   "execution_count": 3,
   "metadata": {},
   "outputs": [],
   "source": [
    "odict_to_pos = {\n",
    "    'вводн.': 'ADV',\n",
    "    'ж': 'S',\n",
    "    'жо': 'S',\n",
    "    'м': 'S',\n",
    "    'межд.': 'ADV',\n",
    "    'мн.': 'S',\n",
    "    'мо': 'S',\n",
    "    'мо-жо': 'S',\n",
    "    'мс-п': 'ADV',\n",
    "    'н': 'ADV',\n",
    "    'нсв': 'V',\n",
    "    'п': 'A',\n",
    "    'предик.': 'ADV',\n",
    "    'предл.': 'PR',\n",
    "    'с': 'S',\n",
    "    'св': 'V',\n",
    "    'св-нсв': 'V',\n",
    "    'со': 'S',\n",
    "    'союз': 'CONJ',\n",
    "    'сравн.': 'ADV',\n",
    "    'част.': 'ADV',\n",
    "    'числ.': 'ADV',\n",
    "    'числ.-п': 'A'\n",
    "}"
   ]
  },
  {
   "cell_type": "code",
   "execution_count": 43,
   "metadata": {},
   "outputs": [],
   "source": [
    "odict_words_lemmas = {}\n",
    "odict_words_pos = {}\n",
    "\n",
    "with open('odict.csv', encoding='1251') as odict:\n",
    "    for line in odict:\n",
    "        items = line.split(',')[:-1]\n",
    "        lemma, pos = items[:2]\n",
    "        words = items[2:]\n",
    "        words.append(lemma)\n",
    "        pos = odict_to_pos[pos]\n",
    "\n",
    "        for word in words:\n",
    "            word = word.strip().lower()\n",
    "            if word not in odict_words_lemmas:\n",
    "                odict_words_lemmas[word] = {}\n",
    "            odict_words_lemmas[word][lemma] = odict_words_lemmas[word].get(lemma, 0) + 1\n",
    "            if word not in odict_words_pos:\n",
    "                odict_words_pos[word] = {}\n",
    "            odict_words_pos[word][pos] = odict_words_pos[word].get(pos, 0) + 1"
   ]
  },
  {
   "cell_type": "code",
   "execution_count": 5,
   "metadata": {},
   "outputs": [],
   "source": [
    "corpus = opencorpora.load('annot.opcorpora.xml')"
   ]
  },
  {
   "cell_type": "code",
   "execution_count": 6,
   "metadata": {},
   "outputs": [],
   "source": [
    "ocorpora_to_pos = {\n",
    "    'NOUN': 'S',\n",
    "    'ADJF': 'A',\n",
    "    'ADJS': 'A',\n",
    "    'VERB': 'V',\n",
    "    'INFN': 'V',\n",
    "    'PRTF': 'V',\n",
    "    'PRTS': 'V',\n",
    "    'GRND': 'V',\n",
    "    'ADVB': 'ADV',\n",
    "    'NPRO': 'S',\n",
    "    'PREP': 'PR',\n",
    "    'CONJ': 'CONJ',\n",
    "    'PRCL': 'ADV',\n",
    "    'INTJ': 'ADV'\n",
    "}"
   ]
  },
  {
   "cell_type": "code",
   "execution_count": 49,
   "metadata": {},
   "outputs": [],
   "source": [
    "ocorp_words_lemmas = {}\n",
    "ocorp_words_pos = {}\n",
    "\n",
    "n = 0\n",
    "for doc in corpus:\n",
    "    for sentence in doc.sentences:\n",
    "        for token in sentence.tokens:\n",
    "            n += 1\n",
    "            word = token.source.strip().lower()\n",
    "            lemma = token.parse.lemma.strip().lower()\n",
    "            pos = token.parse.grammemes[0]\n",
    "            pos = ocorpora_to_pos.get(pos, 'UNK')\n",
    "\n",
    "            if word not in ocorp_words_lemmas:\n",
    "                ocorp_words_lemmas[word] = {}\n",
    "            ocorp_words_lemmas[word][lemma] = ocorp_words_lemmas[word].get(lemma, 0) + 1\n",
    "            if word not in ocorp_words_pos:\n",
    "                ocorp_words_pos[word] = {}\n",
    "            ocorp_words_pos[word][pos] = ocorp_words_pos[word].get(pos, 0) + 1 "
   ]
  },
  {
   "cell_type": "code",
   "execution_count": 28,
   "metadata": {},
   "outputs": [],
   "source": [
    "def arg_max_dict(d, ignore=set('UNK')):\n",
    "    max_v = 0\n",
    "    max_a = None\n",
    "    s = 0\n",
    "    for k in d:\n",
    "        if k in ignore:\n",
    "            continue\n",
    "        s += d[k]\n",
    "        if max_v < d[k]:\n",
    "            max_v = d[k]\n",
    "            max_a = k\n",
    "    return max_a #, max_v / s"
   ]
  },
  {
   "cell_type": "code",
   "execution_count": 24,
   "metadata": {},
   "outputs": [],
   "source": [
    "def two_dict_and_default(key, d1, d2, default):\n",
    "    if key in d1:\n",
    "        answer = arg_max_dict(d1[key])\n",
    "    elif key in d2:\n",
    "        answer = arg_max_dict(d2[key])\n",
    "    else:\n",
    "        answer = default\n",
    "    return answer"
   ]
  },
  {
   "cell_type": "code",
   "execution_count": 57,
   "metadata": {},
   "outputs": [],
   "source": [
    "sents = []\n",
    "with open(file_path) as f:\n",
    "    for line in f:\n",
    "        sents.append(\"\".join(c for c in line if c not in '.,?!').strip().split(' '))"
   ]
  },
  {
   "cell_type": "code",
   "execution_count": 58,
   "metadata": {},
   "outputs": [],
   "source": [
    "output = []\n",
    "for words in sents:\n",
    "    sent = []\n",
    "    for word in words:\n",
    "        w = word.lower()\n",
    "#         lemma = two_dict_and_default(w, odict_words_lemmas, ocorp_words_lemmas, word)\n",
    "#         pos = two_dict_and_default(w, odict_words_pos, ocorp_words_pos, 'S')\n",
    "        \n",
    "#         lemma = two_dict_and_default(w, ocorp_words_lemmas, odict_words_lemmas, w)\n",
    "#         pos = two_dict_and_default(w, ocorp_words_pos, odict_words_pos, 'S')\n",
    "\n",
    "        lemma = two_dict_and_default(w, odict_words_lemmas, ocorp_words_lemmas, w)\n",
    "        pos = two_dict_and_default(w, ocorp_words_pos, odict_words_pos, 'S')\n",
    "        \n",
    "        sent.append(word + '{' + lemma + '=' + pos + '}')\n",
    "    output.append(\" \".join(sent))"
   ]
  },
  {
   "cell_type": "code",
   "execution_count": 59,
   "metadata": {},
   "outputs": [],
   "source": [
    "with open(\"out.txt\", 'w') as f:\n",
    "    for s in output:\n",
    "        f.write(s + \"\\n\")"
   ]
  },
  {
   "cell_type": "code",
   "execution_count": 53,
   "metadata": {},
   "outputs": [
    {
     "data": {
      "text/plain": [
       "{'в': 1}"
      ]
     },
     "execution_count": 53,
     "metadata": {},
     "output_type": "execute_result"
    }
   ],
   "source": [
    "odict_words_lemmas[\"в\"]"
   ]
  },
  {
   "cell_type": "code",
   "execution_count": null,
   "metadata": {},
   "outputs": [],
   "source": []
  }
 ],
 "metadata": {
  "kernelspec": {
   "display_name": "Python 3",
   "language": "python",
   "name": "python3"
  },
  "language_info": {
   "codemirror_mode": {
    "name": "ipython",
    "version": 3
   },
   "file_extension": ".py",
   "mimetype": "text/x-python",
   "name": "python",
   "nbconvert_exporter": "python",
   "pygments_lexer": "ipython3",
   "version": "3.7.3"
  }
 },
 "nbformat": 4,
 "nbformat_minor": 4
}
