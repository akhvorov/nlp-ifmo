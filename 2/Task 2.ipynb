{
 "cells": [
  {
   "cell_type": "markdown",
   "metadata": {},
   "source": []
  },
  {
   "cell_type": "code",
   "execution_count": 232,
   "metadata": {},
   "outputs": [],
   "source": [
    "import numpy as np\n",
    "import pymorphy2\n",
    "import matplotlib.pyplot as plt\n",
    "from sklearn.feature_extraction.text import CountVectorizer, TfidfTransformer\n",
    "from sklearn.model_selection import train_test_split\n",
    "from sklearn.pipeline import make_pipeline, Pipeline, FeatureUnion\n",
    "from sklearn.linear_model import SGDRegressor, SGDClassifier\n",
    "from sklearn.naive_bayes import GaussianNB, MultinomialNB\n",
    "# from sklearn.neighbors import KNeighborsClassifier\n",
    "from sklearn.ensemble import GradientBoostingRegressor\n",
    "from sklearn.ensemble import VotingRegressor\n",
    "from sklearn.metrics import mean_squared_error\n",
    "from collections import Counter\n",
    "\n",
    "from catboost import CatBoostRegressor\n",
    "\n",
    "from vgram import VGram"
   ]
  },
  {
   "cell_type": "code",
   "execution_count": 233,
   "metadata": {},
   "outputs": [],
   "source": [
    "morph = pymorphy2.MorphAnalyzer()\n",
    "\n",
    "def to_lemmas(sent):\n",
    "    return \" \".join(morph.parse(w)[0].normal_form for w in sent.split())\n",
    "\n",
    "def read_test():\n",
    "    path = \"dataset_40757_1.txt\"\n",
    "    with open(path) as f:\n",
    "        X = list(map(lambda x: to_lemmas(x.strip()), f.read().strip().split('\\n')))\n",
    "    X = np.array(X)\n",
    "    return X\n",
    "\n",
    "def read_data():\n",
    "    with open(\"scores_train.txt\") as f:\n",
    "        y = list(map(lambda x: float(x.strip()), f.read().strip().split('\\n')))\n",
    "    with open(\"texts_train.txt\") as f:\n",
    "        X = list(map(lambda x: to_lemmas(x.strip()), f.read().strip().split('\\n')))\n",
    "    X = np.array(X)\n",
    "    y = np.array(y)\n",
    "    return X, y\n",
    "\n",
    "X_all, y_all = read_data()\n",
    "X_tr, X_te, y_tr, y_te = train_test_split(X_all, y_all, train_size=0.7)"
   ]
  },
  {
   "cell_type": "code",
   "execution_count": 234,
   "metadata": {},
   "outputs": [
    {
     "data": {
      "image/png": "[encoded data removed]",
      "text/plain": [
       "<Figure size 432x288 with 1 Axes>"
      ]
     },
     "metadata": {
      "needs_background": "light"
     },
     "output_type": "display_data"
    }
   ],
   "source": [
    "plt.hist(y_all)\n",
    "plt.show()"
   ]
  },
  {
   "cell_type": "code",
   "execution_count": 288,
   "metadata": {},
   "outputs": [],
   "source": [
    "cnt = Counter(y_tr)\n",
    "tr_weights = [cnt[y_tr[i]] for i in range(len(y_tr))]"
   ]
  },
  {
   "cell_type": "code",
   "execution_count": 296,
   "metadata": {},
   "outputs": [
    {
     "name": "stdout",
     "output_type": "stream",
     "text": [
      "[ 7.  3.  9. 10. 10.  4. 10.  9.  7.  9.  8.  7.  1.  9.  5.  9.  9. 10.\n",
      " 10. 10.]\n",
      "[1299, 404, 3349, 3815, 3815, 559, 3815, 3349, 1299, 3349, 2438, 1299, 244, 3349, 872, 3349, 3349, 3815, 3815, 3815]\n"
     ]
    }
   ],
   "source": [
    "print(y_tr[:20])\n",
    "print(tr_weights[:20])"
   ]
  },
  {
   "cell_type": "code",
   "execution_count": 280,
   "metadata": {},
   "outputs": [],
   "source": [
    "# fit_vgram = VGram(5000, 10).fit(X_all)\n",
    "fit_vgram_15k = VGram(15000, 15).fit(X_all)"
   ]
  },
  {
   "cell_type": "code",
   "execution_count": 291,
   "metadata": {},
   "outputs": [
    {
     "ename": "ValueError",
     "evalue": "could not convert string to float: 'читать 10 год назад - тогда книга показаться очень интересный'",
     "output_type": "error",
     "traceback": [
      "\u001b[0;31m---------------------------------------------------------------------------\u001b[0m",
      "\u001b[0;31mValueError\u001b[0m                                Traceback (most recent call last)",
      "\u001b[0;32m<ipython-input-291-def96cb4cc31>\u001b[0m in \u001b[0;36m<module>\u001b[0;34m\u001b[0m\n\u001b[1;32m     69\u001b[0m \u001b[0;31m# model = VotingRegressor([(\"bigrams_sgd \" + str(i), bigrams_sgd()) for i in range(10)])\u001b[0m\u001b[0;34m\u001b[0m\u001b[0;34m\u001b[0m\u001b[0;34m\u001b[0m\u001b[0m\n\u001b[1;32m     70\u001b[0m \u001b[0;34m\u001b[0m\u001b[0m\n\u001b[0;32m---> 71\u001b[0;31m \u001b[0mmodel\u001b[0m\u001b[0;34m.\u001b[0m\u001b[0mfit\u001b[0m\u001b[0;34m(\u001b[0m\u001b[0mX_tr\u001b[0m\u001b[0;34m,\u001b[0m \u001b[0my_tr\u001b[0m\u001b[0;34m,\u001b[0m \u001b[0msample_weight\u001b[0m\u001b[0;34m=\u001b[0m\u001b[0mtr_weights\u001b[0m\u001b[0;34m)\u001b[0m\u001b[0;34m\u001b[0m\u001b[0;34m\u001b[0m\u001b[0m\n\u001b[0m\u001b[1;32m     72\u001b[0m \u001b[0my_pr\u001b[0m \u001b[0;34m=\u001b[0m \u001b[0mmodel\u001b[0m\u001b[0;34m.\u001b[0m\u001b[0mpredict\u001b[0m\u001b[0;34m(\u001b[0m\u001b[0mX_te\u001b[0m\u001b[0;34m)\u001b[0m\u001b[0;34m\u001b[0m\u001b[0;34m\u001b[0m\u001b[0m\n\u001b[1;32m     73\u001b[0m \u001b[0my_pr\u001b[0m \u001b[0;34m=\u001b[0m \u001b[0mnp\u001b[0m\u001b[0;34m.\u001b[0m\u001b[0mclip\u001b[0m\u001b[0;34m(\u001b[0m\u001b[0my_pr\u001b[0m\u001b[0;34m,\u001b[0m \u001b[0ma_max\u001b[0m\u001b[0;34m=\u001b[0m\u001b[0;36m10\u001b[0m\u001b[0;34m,\u001b[0m \u001b[0ma_min\u001b[0m\u001b[0;34m=\u001b[0m\u001b[0;36m0\u001b[0m\u001b[0;34m)\u001b[0m\u001b[0;34m\u001b[0m\u001b[0;34m\u001b[0m\u001b[0m\n",
      "\u001b[0;32m~/anaconda3/lib/python3.7/site-packages/sklearn/linear_model/stochastic_gradient.py\u001b[0m in \u001b[0;36mfit\u001b[0;34m(self, X, y, coef_init, intercept_init, sample_weight)\u001b[0m\n\u001b[1;32m   1216\u001b[0m                          \u001b[0mcoef_init\u001b[0m\u001b[0;34m=\u001b[0m\u001b[0mcoef_init\u001b[0m\u001b[0;34m,\u001b[0m\u001b[0;34m\u001b[0m\u001b[0;34m\u001b[0m\u001b[0m\n\u001b[1;32m   1217\u001b[0m                          \u001b[0mintercept_init\u001b[0m\u001b[0;34m=\u001b[0m\u001b[0mintercept_init\u001b[0m\u001b[0;34m,\u001b[0m\u001b[0;34m\u001b[0m\u001b[0;34m\u001b[0m\u001b[0m\n\u001b[0;32m-> 1218\u001b[0;31m                          sample_weight=sample_weight)\n\u001b[0m\u001b[1;32m   1219\u001b[0m \u001b[0;34m\u001b[0m\u001b[0m\n\u001b[1;32m   1220\u001b[0m     \u001b[0;32mdef\u001b[0m \u001b[0m_decision_function\u001b[0m\u001b[0;34m(\u001b[0m\u001b[0mself\u001b[0m\u001b[0;34m,\u001b[0m \u001b[0mX\u001b[0m\u001b[0;34m)\u001b[0m\u001b[0;34m:\u001b[0m\u001b[0;34m\u001b[0m\u001b[0;34m\u001b[0m\u001b[0m\n",
      "\u001b[0;32m~/anaconda3/lib/python3.7/site-packages/sklearn/linear_model/stochastic_gradient.py\u001b[0m in \u001b[0;36m_fit\u001b[0;34m(self, X, y, alpha, C, loss, learning_rate, coef_init, intercept_init, sample_weight)\u001b[0m\n\u001b[1;32m   1176\u001b[0m         self._partial_fit(X, y, alpha, C, loss, learning_rate,\n\u001b[1;32m   1177\u001b[0m                           \u001b[0mself\u001b[0m\u001b[0;34m.\u001b[0m\u001b[0mmax_iter\u001b[0m\u001b[0;34m,\u001b[0m \u001b[0msample_weight\u001b[0m\u001b[0;34m,\u001b[0m \u001b[0mcoef_init\u001b[0m\u001b[0;34m,\u001b[0m\u001b[0;34m\u001b[0m\u001b[0;34m\u001b[0m\u001b[0m\n\u001b[0;32m-> 1178\u001b[0;31m                           intercept_init)\n\u001b[0m\u001b[1;32m   1179\u001b[0m \u001b[0;34m\u001b[0m\u001b[0m\n\u001b[1;32m   1180\u001b[0m         if (self.tol is not None and self.tol > -np.inf\n",
      "\u001b[0;32m~/anaconda3/lib/python3.7/site-packages/sklearn/linear_model/stochastic_gradient.py\u001b[0m in \u001b[0;36m_partial_fit\u001b[0;34m(self, X, y, alpha, C, loss, learning_rate, max_iter, sample_weight, coef_init, intercept_init)\u001b[0m\n\u001b[1;32m   1097\u001b[0m                      max_iter, sample_weight, coef_init, intercept_init):\n\u001b[1;32m   1098\u001b[0m         X, y = check_X_y(X, y, \"csr\", copy=False, order='C', dtype=np.float64,\n\u001b[0;32m-> 1099\u001b[0;31m                          accept_large_sparse=False)\n\u001b[0m\u001b[1;32m   1100\u001b[0m         \u001b[0my\u001b[0m \u001b[0;34m=\u001b[0m \u001b[0my\u001b[0m\u001b[0;34m.\u001b[0m\u001b[0mastype\u001b[0m\u001b[0;34m(\u001b[0m\u001b[0mnp\u001b[0m\u001b[0;34m.\u001b[0m\u001b[0mfloat64\u001b[0m\u001b[0;34m,\u001b[0m \u001b[0mcopy\u001b[0m\u001b[0;34m=\u001b[0m\u001b[0;32mFalse\u001b[0m\u001b[0;34m)\u001b[0m\u001b[0;34m\u001b[0m\u001b[0;34m\u001b[0m\u001b[0m\n\u001b[1;32m   1101\u001b[0m \u001b[0;34m\u001b[0m\u001b[0m\n",
      "\u001b[0;32m~/anaconda3/lib/python3.7/site-packages/sklearn/utils/validation.py\u001b[0m in \u001b[0;36mcheck_X_y\u001b[0;34m(X, y, accept_sparse, accept_large_sparse, dtype, order, copy, force_all_finite, ensure_2d, allow_nd, multi_output, ensure_min_samples, ensure_min_features, y_numeric, warn_on_dtype, estimator)\u001b[0m\n\u001b[1;32m    717\u001b[0m                     \u001b[0mensure_min_features\u001b[0m\u001b[0;34m=\u001b[0m\u001b[0mensure_min_features\u001b[0m\u001b[0;34m,\u001b[0m\u001b[0;34m\u001b[0m\u001b[0;34m\u001b[0m\u001b[0m\n\u001b[1;32m    718\u001b[0m                     \u001b[0mwarn_on_dtype\u001b[0m\u001b[0;34m=\u001b[0m\u001b[0mwarn_on_dtype\u001b[0m\u001b[0;34m,\u001b[0m\u001b[0;34m\u001b[0m\u001b[0;34m\u001b[0m\u001b[0m\n\u001b[0;32m--> 719\u001b[0;31m                     estimator=estimator)\n\u001b[0m\u001b[1;32m    720\u001b[0m     \u001b[0;32mif\u001b[0m \u001b[0mmulti_output\u001b[0m\u001b[0;34m:\u001b[0m\u001b[0;34m\u001b[0m\u001b[0;34m\u001b[0m\u001b[0m\n\u001b[1;32m    721\u001b[0m         y = check_array(y, 'csr', force_all_finite=True, ensure_2d=False,\n",
      "\u001b[0;32m~/anaconda3/lib/python3.7/site-packages/sklearn/utils/validation.py\u001b[0m in \u001b[0;36mcheck_array\u001b[0;34m(array, accept_sparse, accept_large_sparse, dtype, order, copy, force_all_finite, ensure_2d, allow_nd, ensure_min_samples, ensure_min_features, warn_on_dtype, estimator)\u001b[0m\n\u001b[1;32m    494\u001b[0m             \u001b[0;32mtry\u001b[0m\u001b[0;34m:\u001b[0m\u001b[0;34m\u001b[0m\u001b[0;34m\u001b[0m\u001b[0m\n\u001b[1;32m    495\u001b[0m                 \u001b[0mwarnings\u001b[0m\u001b[0;34m.\u001b[0m\u001b[0msimplefilter\u001b[0m\u001b[0;34m(\u001b[0m\u001b[0;34m'error'\u001b[0m\u001b[0;34m,\u001b[0m \u001b[0mComplexWarning\u001b[0m\u001b[0;34m)\u001b[0m\u001b[0;34m\u001b[0m\u001b[0;34m\u001b[0m\u001b[0m\n\u001b[0;32m--> 496\u001b[0;31m                 \u001b[0marray\u001b[0m \u001b[0;34m=\u001b[0m \u001b[0mnp\u001b[0m\u001b[0;34m.\u001b[0m\u001b[0masarray\u001b[0m\u001b[0;34m(\u001b[0m\u001b[0marray\u001b[0m\u001b[0;34m,\u001b[0m \u001b[0mdtype\u001b[0m\u001b[0;34m=\u001b[0m\u001b[0mdtype\u001b[0m\u001b[0;34m,\u001b[0m \u001b[0morder\u001b[0m\u001b[0;34m=\u001b[0m\u001b[0morder\u001b[0m\u001b[0;34m)\u001b[0m\u001b[0;34m\u001b[0m\u001b[0;34m\u001b[0m\u001b[0m\n\u001b[0m\u001b[1;32m    497\u001b[0m             \u001b[0;32mexcept\u001b[0m \u001b[0mComplexWarning\u001b[0m\u001b[0;34m:\u001b[0m\u001b[0;34m\u001b[0m\u001b[0;34m\u001b[0m\u001b[0m\n\u001b[1;32m    498\u001b[0m                 raise ValueError(\"Complex data not supported\\n\"\n",
      "\u001b[0;32m~/anaconda3/lib/python3.7/site-packages/numpy/core/numeric.py\u001b[0m in \u001b[0;36masarray\u001b[0;34m(a, dtype, order)\u001b[0m\n\u001b[1;32m    536\u001b[0m \u001b[0;34m\u001b[0m\u001b[0m\n\u001b[1;32m    537\u001b[0m     \"\"\"\n\u001b[0;32m--> 538\u001b[0;31m     \u001b[0;32mreturn\u001b[0m \u001b[0marray\u001b[0m\u001b[0;34m(\u001b[0m\u001b[0ma\u001b[0m\u001b[0;34m,\u001b[0m \u001b[0mdtype\u001b[0m\u001b[0;34m,\u001b[0m \u001b[0mcopy\u001b[0m\u001b[0;34m=\u001b[0m\u001b[0;32mFalse\u001b[0m\u001b[0;34m,\u001b[0m \u001b[0morder\u001b[0m\u001b[0;34m=\u001b[0m\u001b[0morder\u001b[0m\u001b[0;34m)\u001b[0m\u001b[0;34m\u001b[0m\u001b[0;34m\u001b[0m\u001b[0m\n\u001b[0m\u001b[1;32m    539\u001b[0m \u001b[0;34m\u001b[0m\u001b[0m\n\u001b[1;32m    540\u001b[0m \u001b[0;34m\u001b[0m\u001b[0m\n",
      "\u001b[0;31mValueError\u001b[0m: could not convert string to float: 'читать 10 год назад - тогда книга показаться очень интересный'"
     ]
    }
   ],
   "source": [
    "def vgram_sgd():\n",
    "#     1.7594020482846366\n",
    "#     2.0008748086774446\n",
    "    vgram = Pipeline([\n",
    "            (\"vgb\", fit_vgram_15k),\n",
    "            (\"vect\", CountVectorizer(ngram_range=(1,2)))\n",
    "    ])\n",
    "    pipeline = Pipeline([\n",
    "            (\"features\", FeatureUnion([(\"vgb\", vgram), (\"words\", CountVectorizer())])),\n",
    "            ('tfidf', TfidfTransformer(sublinear_tf=True)),\n",
    "            (\"sgd\", SGDRegressor(loss='squared_loss', penalty='elasticnet', l1_ratio=0.1, eta0=0.3, alpha=1e-4, max_iter=500))\n",
    "    ])\n",
    "    return pipeline\n",
    "\n",
    "# ------------\n",
    "\n",
    "def sgd_reg():\n",
    "    return Pipeline([(\"vect\", CountVectorizer()),\n",
    "                    (\"tfidf\", TfidfTransformer(sublinear_tf=True)),\n",
    "                    (\"sgd\", SGDRegressor(loss='squared_loss', penalty='elasticnet', l1_ratio=0.2, eta0=0.3, alpha=1e-4, max_iter=500))\n",
    "                    ])\n",
    "\n",
    "def bigrams_sgd():\n",
    "    # 1.7871547437491544\n",
    "    # 1.97087121175721\n",
    "    return Pipeline([(\"vect\", CountVectorizer(ngram_range=(1,2))),\n",
    "                    (\"tfidf\", TfidfTransformer(sublinear_tf=True)),\n",
    "                    (\"sgd\", SGDRegressor(loss='squared_loss', penalty='elasticnet', \n",
    "                                         l1_ratio=0.3, eta0=0.3, alpha=1e-4, max_iter=500))\n",
    "                    ])\n",
    "\n",
    "def sgd_class():\n",
    "#     0.21061135500523911\n",
    "#     2.180175833887411\n",
    "    return Pipeline([(\"vect\", CountVectorizer(ngram_range=(1,1))),\n",
    "                    (\"tfidf\", TfidfTransformer(sublinear_tf=True)),\n",
    "                    (\"sgd\", SGDClassifier(loss='hinge', penalty='elasticnet', l1_ratio=0., eta0=0.1,\n",
    "                                          alpha=1e-4, max_iter=300))\n",
    "                    ])\n",
    "\n",
    "def nb_class():\n",
    "#     2.363517354646309\n",
    "#     2.521738818090935\n",
    "    return Pipeline([\n",
    "            (\"vect\", CountVectorizer()),\n",
    "#             ('tfidf', TfidfTransformer()),\n",
    "            (\"nb\", MultinomialNB())\n",
    "    ])\n",
    "\n",
    "\n",
    "trans = Pipeline([(\"vect\", CountVectorizer(ngram_range=(1,2))),\n",
    "                (\"tfidf\", TfidfTransformer(sublinear_tf=True))])\n",
    "\n",
    "data_tr = trans.fit(X_tr).transform(X_tr)\n",
    "model = SGDRegressor(loss='squared_loss', penalty='elasticnet', \n",
    "                     l1_ratio=0.3, eta0=0.3, alpha=1e-4, max_iter=500)\n",
    "\n",
    "# model = sgd_reg()\n",
    "# model = bigrams_sgd()\n",
    "# model = sgd_class()\n",
    "# model = nb_class()\n",
    "# model = vgram_sgd()\n",
    "\n",
    "# model = VotingRegressor([\n",
    "#     (\"sgd_reg\", sgd_reg()),\n",
    "#     (\"bigrams_sgd\", bigrams_sgd()),\n",
    "#     (\"sgd_class\", sgd_class())],\n",
    "#     weights=[1, 2, 1])\n",
    "# model = VotingRegressor([(\"bigrams_sgd \" + str(i), bigrams_sgd()) for i in range(10)])\n",
    "\n",
    "model.fit(X_tr, y_tr, sample_weight=tr_weights)\n",
    "y_pr = model.predict(X_te)\n",
    "y_pr = np.clip(y_pr, a_max=10, a_min=0)\n",
    "y_pr = np.array(y_pr, dtype=np.int32)\n",
    "plt.hist(y_pred)\n",
    "print(mean_squared_error(model.predict(X_tr), y_tr) ** 0.5)\n",
    "print(mean_squared_error(y_pr, y_te) ** 0.5)"
   ]
  },
  {
   "cell_type": "code",
   "execution_count": 261,
   "metadata": {},
   "outputs": [
    {
     "data": {
      "text/plain": [
       "(array([2.000e+00, 1.000e+00, 4.000e+00, 3.400e+01, 1.620e+02, 7.980e+02,\n",
       "        2.251e+03, 2.313e+03, 4.140e+02, 2.100e+01]),\n",
       " array([-0.90084062,  0.38370926,  1.66825915,  2.95280903,  4.23735892,\n",
       "         5.5219088 ,  6.80645869,  8.09100858,  9.37555846, 10.66010835,\n",
       "        11.94465823]),\n",
       " <a list of 10 Patch objects>)"
      ]
     },
     "execution_count": 261,
     "metadata": {},
     "output_type": "execute_result"
    },
    {
     "data": {
      "image/png": "[encoded data removed]",
      "text/plain": [
       "<Figure size 432x288 with 1 Axes>"
      ]
     },
     "metadata": {
      "needs_background": "light"
     },
     "output_type": "display_data"
    }
   ],
   "source": [
    "model = VotingRegressor([\n",
    "    (\"sgd_reg\", sgd_reg()),\n",
    "    (\"bigrams_sgd\", bigrams_sgd()),\n",
    "    (\"sgd_class\", sgd_class())],\n",
    "    weights=[1, 2, 1])\n",
    "model = bigrams_sgd()\n",
    "model.fit(X_all, y_all)\n",
    "\n",
    "y_pr = model.predict(X_te)\n",
    "plt.hist(y_pr)"
   ]
  },
  {
   "cell_type": "code",
   "execution_count": 262,
   "metadata": {},
   "outputs": [],
   "source": [
    "X_test = read_test()\n",
    "y_pred = model.predict(X_test)\n",
    "y_pred = np.clip(y_pred, a_max=10, a_min=0)\n",
    "y_pred = np.array(y_pred, dtype=np.int32)\n",
    "with open(\"out.txt\", 'w') as f:\n",
    "    f.write(\"\\n\".join(map(lambda x: str(int(x)), y_pred)))"
   ]
  },
  {
   "cell_type": "code",
   "execution_count": 149,
   "metadata": {},
   "outputs": [
    {
     "data": {
      "text/plain": [
       "Counter({6.0: 1061,\n",
       "         7.0: 1872,\n",
       "         10.0: 5450,\n",
       "         5.0: 1269,\n",
       "         9.0: 4787,\n",
       "         8.0: 3469,\n",
       "         3.0: 580,\n",
       "         4.0: 806,\n",
       "         1.0: 358,\n",
       "         2.0: 348})"
      ]
     },
     "execution_count": 149,
     "metadata": {},
     "output_type": "execute_result"
    }
   ],
   "source": [
    "# print(len(y_all))\n",
    "# sorted(y_all)[15000]\n",
    "Counter(y_all)"
   ]
  },
  {
   "cell_type": "code",
   "execution_count": null,
   "metadata": {},
   "outputs": [],
   "source": [
    "X_good = X_tr[]"
   ]
  },
  {
   "cell_type": "code",
   "execution_count": 282,
   "metadata": {},
   "outputs": [],
   "source": [
    "class MyEst:\n",
    "    def __init__(self, split=8, ngram_range=(1,1), iters=500):\n",
    "        self.split = split\n",
    "        self.classifier = Pipeline([(\"vect\", CountVectorizer(ngram_range=ngram_range)),\n",
    "                    (\"tfidf\", TfidfTransformer(sublinear_tf=True)),\n",
    "                    (\"sgd\", SGDClassifier(loss='modified_huber', penalty='elasticnet', l1_ratio=0.3, eta0=0.3, alpha=1e-4, max_iter=iters))\n",
    "                    ])\n",
    "        self.regressor_bad = Pipeline([(\"vect\", CountVectorizer(ngram_range=ngram_range)),\n",
    "                    (\"tfidf\", TfidfTransformer(sublinear_tf=True)),\n",
    "                    (\"sgd\", SGDRegressor(loss='squared_loss', penalty='elasticnet', l1_ratio=0.3, eta0=0.3, alpha=1e-4, max_iter=iters))\n",
    "                    ])\n",
    "\n",
    "        self.regressor_good = Pipeline([(\"vect\", CountVectorizer(ngram_range=ngram_range)),\n",
    "                    (\"tfidf\", TfidfTransformer(sublinear_tf=True)),\n",
    "                    (\"sgd\", SGDRegressor(loss='squared_loss', penalty='elasticnet', l1_ratio=0.3, eta0=0.3, alpha=1e-4, max_iter=iters))\n",
    "                    ])\n",
    "        \n",
    "        self.classifier_good = Pipeline([(\"vect\", CountVectorizer(ngram_range=ngram_range)),\n",
    "                    (\"tfidf\", TfidfTransformer(sublinear_tf=True)),\n",
    "                    (\"sgd\", SGDClassifier(loss='modified_huber', penalty='elasticnet', l1_ratio=0.3, eta0=0.3, alpha=1e-4, max_iter=iters))\n",
    "                    ])\n",
    "        \n",
    "    def fit(self, X_tr, y_tr):\n",
    "        split = self.split\n",
    "        y_tr_class = y_tr >= split\n",
    "        X_tr_good = X_tr[y_tr >= split]\n",
    "        y_tr_good = y_tr[y_tr >= split]\n",
    "        X_tr_bad = X_tr[y_tr < split]\n",
    "        y_tr_bad = y_tr[y_tr < split]\n",
    "        \n",
    "        for i, (good_ind, bad_ind) in enumerate(zip(range(split, 11), range(5, 10 - split - 1, -1))):\n",
    "            num = len(y_tr[y_tr == bad_ind])\n",
    "            X_good_add = np.random.choice(X_tr[y_tr == good_ind], num)\n",
    "            X_tr_bad = np.append(X_tr_bad, X_good_add)\n",
    "            y_tr_bad = np.append(y_tr_bad, np.array([good_ind] * num))\n",
    "        \n",
    "        cnt = Counter(y_tr_bad)\n",
    "        plt.bar(list(cnt), list(cnt.values()))\n",
    "        plt.show()\n",
    "            \n",
    "        self.classifier.fit(X_tr, y_tr_class)\n",
    "        self.regressor_bad.fit(X_tr_bad, y_tr_bad)\n",
    "        self.regressor_good.fit(X_tr_good, y_tr_good)\n",
    "        self.classifier_good.fit(X_tr_good, y_tr_good)\n",
    "        \n",
    "    def predict(self, X_te):\n",
    "        goodnes_prob = self.classifier.predict_proba(X_te)\n",
    "\n",
    "        y_pr_bad = self.regressor_bad.predict(X_te)\n",
    "        y_pr_good = self.regressor_good.predict(X_te)\n",
    "        y_pr = goodnes_prob[:, 0] * y_pr_bad + goodnes_prob[:, 1] * y_pr_good\n",
    "\n",
    "        class_pred = self.classifier.predict(X_te)\n",
    "        y_pr = class_pred * self.classifier_good.predict(X_te) + (1 - class_pred) * self.regressor_bad.predict(X_te)\n",
    "        \n",
    "        y_pr[class_pred == 1] = self.classifier_good.predict(X_te)[class_pred == 1]\n",
    "\n",
    "        y_pr = np.clip(y_pr, a_max=10, a_min=0)\n",
    "        y_pr = np.array(y_pr, dtype=np.int32)\n",
    "        return y_pr"
   ]
  },
  {
   "cell_type": "code",
   "execution_count": 283,
   "metadata": {},
   "outputs": [
    {
     "data": {
      "image/png": "[encoded data removed]",
      "text/plain": [
       "<Figure size 432x288 with 1 Axes>"
      ]
     },
     "metadata": {
      "needs_background": "light"
     },
     "output_type": "display_data"
    },
    {
     "name": "stdout",
     "output_type": "stream",
     "text": [
      "1.127861440324754\n",
      "1.9745463614038878\n",
      "\n",
      "1.5603518371670178\n",
      "2.658578186678651\n"
     ]
    },
    {
     "data": {
      "image/png": "[encoded data removed]",
      "text/plain": [
       "<Figure size 432x288 with 1 Axes>"
      ]
     },
     "metadata": {
      "needs_background": "light"
     },
     "output_type": "display_data"
    }
   ],
   "source": [
    "split=8\n",
    "model = MyEst(split=split, ngram_range=(1,2), iters=500)\n",
    "model.fit(X_tr, y_tr)\n",
    "print(mean_squared_error(model.predict(X_tr), y_tr) ** 0.5)\n",
    "y_pr = model.predict(X_te)\n",
    "print(mean_squared_error(y_pr, y_te) ** 0.5)\n",
    "print()\n",
    "print(mean_squared_error(y_pr[y_te >= split], y_te[y_te >= split]) ** 0.5)\n",
    "print(mean_squared_error(y_pr[y_te < split], y_te[y_te < split]) ** 0.5)\n",
    "# print(np.mean(model.predict(X_te) == np.array(y_te >= 8, dtype=np.bool8))) Score: 0.779\n",
    "cnt = Counter(y_pr)\n",
    "plt.bar(list(cnt), list(cnt.values()))\n",
    "plt.show()"
   ]
  },
  {
   "cell_type": "code",
   "execution_count": 210,
   "metadata": {},
   "outputs": [
    {
     "name": "stdout",
     "output_type": "stream",
     "text": [
      "[9, 10, 5, 8, 6, 4, 7, 3, 2] [1579, 1977, 482, 1016, 682, 99, 157, 5, 3]\n"
     ]
    },
    {
     "data": {
      "text/plain": [
       "<BarContainer object of 9 artists>"
      ]
     },
     "execution_count": 210,
     "metadata": {},
     "output_type": "execute_result"
    },
    {
     "data": {
      "image/png": "[encoded data removed]",
      "text/plain": [
       "<Figure size 432x288 with 1 Axes>"
      ]
     },
     "metadata": {
      "needs_background": "light"
     },
     "output_type": "display_data"
    }
   ],
   "source": [
    "# y_pr = model.predict(X_te)\n",
    "cnt = Counter(y_pr)\n",
    "plt.bar(list(cnt), list(cnt.values()))"
   ]
  },
  {
   "cell_type": "code",
   "execution_count": 169,
   "metadata": {},
   "outputs": [
    {
     "data": {
      "text/plain": [
       "5.031749605944607"
      ]
     },
     "execution_count": 169,
     "metadata": {},
     "output_type": "execute_result"
    }
   ],
   "source": [
    "np.mean(y_tr[y_tr < 8])"
   ]
  },
  {
   "cell_type": "code",
   "execution_count": 227,
   "metadata": {},
   "outputs": [
    {
     "data": {
      "image/png": "[encoded data removed]",
      "text/plain": [
       "<Figure size 432x288 with 1 Axes>"
      ]
     },
     "metadata": {
      "needs_background": "light"
     },
     "output_type": "display_data"
    },
    {
     "name": "stderr",
     "output_type": "stream",
     "text": [
      "/Users/aleksandr.khvorov/anaconda3/lib/python3.7/site-packages/sklearn/linear_model/stochastic_gradient.py:1185: ConvergenceWarning: Maximum number of iteration reached before convergence. Consider increasing max_iter to improve the fit.\n",
      "  ConvergenceWarning)\n"
     ]
    }
   ],
   "source": [
    "model = MyEst(split=split, ngram_range=(1,2), iters=500)\n",
    "model.fit(X_all, y_all)\n",
    "X_test = read_test()\n",
    "y_pred = model.predict(X_test)\n",
    "y_pred = np.clip(y_pred, a_max=10, a_min=0)\n",
    "y_pred = np.array(y_pred, dtype=np.int32)\n",
    "with open(\"out.txt\", 'w') as f:\n",
    "    f.write(\"\\n\".join(map(lambda x: str(int(x)), y_pred)))"
   ]
  },
  {
   "cell_type": "code",
   "execution_count": null,
   "metadata": {},
   "outputs": [],
   "source": []
  }
 ],
 "metadata": {
  "kernelspec": {
   "display_name": "Python 3",
   "language": "python",
   "name": "python3"
  },
  "language_info": {
   "codemirror_mode": {
    "name": "ipython",
    "version": 3
   },
   "file_extension": ".py",
   "mimetype": "text/x-python",
   "name": "python",
   "nbconvert_exporter": "python",
   "pygments_lexer": "ipython3",
   "version": "3.7.3"
  }
 },
 "nbformat": 4,
 "nbformat_minor": 4
}
