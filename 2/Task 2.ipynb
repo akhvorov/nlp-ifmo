{
 "cells": [
  {
   "cell_type": "markdown",
   "metadata": {},
   "source": []
  },
  {
   "cell_type": "code",
   "execution_count": 123,
   "metadata": {},
   "outputs": [],
   "source": [
    "import numpy as np\n",
    "import matplotlib.pyplot as plt\n",
    "from sklearn.feature_extraction.text import CountVectorizer, TfidfTransformer\n",
    "from sklearn.model_selection import train_test_split\n",
    "from sklearn.pipeline import make_pipeline, Pipeline, FeatureUnion\n",
    "from sklearn.linear_model import SGDRegressor, SGDClassifier\n",
    "from sklearn.naive_bayes import GaussianNB, MultinomialNB\n",
    "# from sklearn.neighbors import KNeighborsClassifier\n",
    "from sklearn.ensemble import GradientBoostingRegressor\n",
    "from sklearn.ensemble import VotingRegressor\n",
    "from sklearn.metrics import mean_squared_error\n",
    "\n",
    "from catboost import CatBoostRegressor\n",
    "\n",
    "from vgram import VGram"
   ]
  },
  {
   "cell_type": "code",
   "execution_count": 63,
   "metadata": {},
   "outputs": [],
   "source": [
    "def read_test():\n",
    "    path = \"dataset_40757_1.txt\"\n",
    "    with open(path) as f:\n",
    "        X = list(map(lambda x: x.strip(), f.read().strip().split('\\n')))\n",
    "    X = np.array(X)\n",
    "    return X\n",
    "\n",
    "def read_data():\n",
    "    with open(\"scores_train.txt\") as f:\n",
    "        y = list(map(lambda x: float(x.strip()), f.read().strip().split('\\n')))\n",
    "    with open(\"texts_train.txt\") as f:\n",
    "        X = list(map(lambda x: x.strip(), f.read().strip().split('\\n')))\n",
    "    X = np.array(X)\n",
    "    y = np.array(y)\n",
    "    return X, y\n",
    "\n",
    "X_all, y_all = read_data()\n",
    "X_tr, X_te, y_tr, y_te = train_test_split(X_all, y_all, train_size=0.7)"
   ]
  },
  {
   "cell_type": "code",
   "execution_count": 78,
   "metadata": {},
   "outputs": [
    {
     "data": {
      "image/png": "[encoded data removed]",
      "text/plain": [
       "<Figure size 432x288 with 1 Axes>"
      ]
     },
     "metadata": {
      "needs_background": "light"
     },
     "output_type": "display_data"
    }
   ],
   "source": [
    "plt.hist(y_all)\n",
    "plt.show()"
   ]
  },
  {
   "cell_type": "code",
   "execution_count": 126,
   "metadata": {},
   "outputs": [],
   "source": [
    "fit_vgram = VGram(5000, 10).fit(X_all)"
   ]
  },
  {
   "cell_type": "code",
   "execution_count": 196,
   "metadata": {},
   "outputs": [
    {
     "name": "stdout",
     "output_type": "stream",
     "text": [
      "1.786537200361774\n",
      "1.9705329228409252\n"
     ]
    },
    {
     "data": {
      "image/png": "[encoded data removed]",
      "text/plain": [
       "<Figure size 432x288 with 1 Axes>"
      ]
     },
     "metadata": {
      "needs_background": "light"
     },
     "output_type": "display_data"
    }
   ],
   "source": [
    "def vgram_sgd():\n",
    "#     1.7594020482846366\n",
    "#     2.0008748086774446\n",
    "    vgram = Pipeline([\n",
    "            (\"vgb\", fit_vgram),\n",
    "            (\"vect\", CountVectorizer())\n",
    "    ])\n",
    "    pipeline = Pipeline([\n",
    "            (\"features\", FeatureUnion([(\"vgb\", vgram), (\"words\", CountVectorizer())])),\n",
    "            ('tfidf', TfidfTransformer(sublinear_tf=True)),\n",
    "            (\"sgd\", SGDRegressor(loss='squared_loss', penalty='l2', alpha=1e-4, max_iter=500))\n",
    "    ])\n",
    "    return pipeline\n",
    "\n",
    "# ------------\n",
    "\n",
    "def sgd_reg():\n",
    "    return Pipeline([(\"vect\", CountVectorizer()),\n",
    "                    (\"tfidf\", TfidfTransformer(sublinear_tf=True)),\n",
    "                    (\"sgd\", SGDRegressor(loss='squared_loss', penalty='l2', alpha=1e-4, max_iter=500))\n",
    "                    ])\n",
    "\n",
    "def bigrams_sgd():\n",
    "    # 1.7871547437491544\n",
    "    # 1.97087121175721\n",
    "    return Pipeline([(\"vect\", CountVectorizer(ngram_range=(1,2))),\n",
    "                    (\"tfidf\", TfidfTransformer(sublinear_tf=True)),\n",
    "                    (\"sgd\", SGDRegressor(loss='squared_loss', penalty='l2', alpha=1e-4, max_iter=500))\n",
    "                    ])\n",
    "\n",
    "def sgd_class():\n",
    "#     0.21061135500523911\n",
    "#     2.180175833887411\n",
    "    return Pipeline([(\"vect\", CountVectorizer(ngram_range=(1,1))),\n",
    "                    (\"tfidf\", TfidfTransformer(sublinear_tf=True)),\n",
    "                    (\"sgd\", SGDClassifier(loss='hinge', penalty='l2',\n",
    "                                          alpha=1e-4, max_iter=300))\n",
    "                    ])\n",
    "\n",
    "def nb_class():\n",
    "#     2.363517354646309\n",
    "#     2.521738818090935\n",
    "    return Pipeline([\n",
    "            (\"vect\", CountVectorizer()),\n",
    "#             ('tfidf', TfidfTransformer()),\n",
    "            (\"nb\", MultinomialNB())\n",
    "    ])\n",
    "\n",
    "# model = sgd_reg()\n",
    "model = bigrams_sgd()\n",
    "# model = sgd_class()\n",
    "# model = nb_class()\n",
    "# model = vgram_sgd()\n",
    "\n",
    "# model = VotingRegressor([\n",
    "#     (\"sgd_reg\", sgd_reg()),\n",
    "#     (\"bigrams_sgd\", bigrams_sgd()),\n",
    "#     (\"sgd_class\", sgd_class())],\n",
    "#     weights=[1, 2, 1])\n",
    "\n",
    "model.fit(X_tr, y_tr)\n",
    "y_pr = model.predict(X_te)\n",
    "y_pr = np.clip(y_pr, a_max=10, a_min=0)\n",
    "y_pr = np.array(y_pr, dtype=np.int32)\n",
    "plt.hist(y_pred)\n",
    "print(mean_squared_error(model.predict(X_tr), y_tr) ** 0.5)\n",
    "print(mean_squared_error(y_pr, y_te) ** 0.5)"
   ]
  },
  {
   "cell_type": "code",
   "execution_count": 133,
   "metadata": {},
   "outputs": [
    {
     "data": {
      "text/plain": [
       "(array([   3.,    4.,   64.,  344.,  653., 1494., 2224., 1039.,  158.,\n",
       "          17.]),\n",
       " array([ 2.27657501,  3.20552686,  4.13447871,  5.06343056,  5.99238241,\n",
       "         6.92133427,  7.85028612,  8.77923797,  9.70818982, 10.63714167,\n",
       "        11.56609352]),\n",
       " <a list of 10 Patch objects>)"
      ]
     },
     "execution_count": 133,
     "metadata": {},
     "output_type": "execute_result"
    },
    {
     "data": {
      "image/png": "[encoded data removed]",
      "text/plain": [
       "<Figure size 432x288 with 1 Axes>"
      ]
     },
     "metadata": {
      "needs_background": "light"
     },
     "output_type": "display_data"
    }
   ],
   "source": [
    "model = VotingRegressor([\n",
    "    (\"sgd_reg\", sgd_reg()),\n",
    "    (\"bigrams_sgd\", bigrams_sgd()),\n",
    "    (\"sgd_class\", sgd_class())],\n",
    "    weights=[1, 2, 1])\n",
    "model.fit(X_all, y_all)\n",
    "\n",
    "y_pr = model.predict(X_te)\n",
    "plt.hist(y_pr)"
   ]
  },
  {
   "cell_type": "code",
   "execution_count": 134,
   "metadata": {},
   "outputs": [],
   "source": [
    "X_test = read_test()\n",
    "y_pred = model.predict(X_test)\n",
    "y_pred = np.clip(y_pred, a_max=10, a_min=0)\n",
    "y_pred = np.array(y_pred, dtype=np.int32)\n",
    "with open(\"out.txt\", 'w') as f:\n",
    "    f.write(\"\\n\".join(map(lambda x: str(int(x)), y_pred)))"
   ]
  },
  {
   "cell_type": "code",
   "execution_count": 149,
   "metadata": {},
   "outputs": [
    {
     "data": {
      "text/plain": [
       "Counter({6.0: 1061,\n",
       "         7.0: 1872,\n",
       "         10.0: 5450,\n",
       "         5.0: 1269,\n",
       "         9.0: 4787,\n",
       "         8.0: 3469,\n",
       "         3.0: 580,\n",
       "         4.0: 806,\n",
       "         1.0: 358,\n",
       "         2.0: 348})"
      ]
     },
     "execution_count": 149,
     "metadata": {},
     "output_type": "execute_result"
    }
   ],
   "source": [
    "# print(len(y_all))\n",
    "# sorted(y_all)[15000]\n",
    "from collections import Counter\n",
    "Counter(y_all)"
   ]
  },
  {
   "cell_type": "code",
   "execution_count": null,
   "metadata": {},
   "outputs": [],
   "source": [
    "X_good = X_tr[]"
   ]
  },
  {
   "cell_type": "code",
   "execution_count": 230,
   "metadata": {},
   "outputs": [],
   "source": [
    "class MyEst:\n",
    "    def __init__(self, split=8, ngram_range=(1,1), iters=500):\n",
    "        self.split = split\n",
    "        self.classifier = Pipeline([(\"vect\", CountVectorizer(ngram_range=ngram_range)),\n",
    "                    (\"tfidf\", TfidfTransformer(sublinear_tf=True)),\n",
    "                    (\"sgd\", SGDClassifier(loss='modified_huber', penalty='l2', alpha=1e-4, max_iter=iters))\n",
    "                    ])\n",
    "        self.regressor_bad = Pipeline([(\"vect\", CountVectorizer(ngram_range=ngram_range)),\n",
    "                    (\"tfidf\", TfidfTransformer(sublinear_tf=True)),\n",
    "                    (\"sgd\", SGDRegressor(loss='squared_loss', penalty='l2', alpha=1e-4, max_iter=iters))\n",
    "                    ])\n",
    "\n",
    "        self.regressor_good = Pipeline([(\"vect\", CountVectorizer(ngram_range=ngram_range)),\n",
    "                    (\"tfidf\", TfidfTransformer(sublinear_tf=True)),\n",
    "                    (\"sgd\", SGDRegressor(loss='squared_loss', penalty='l2', alpha=1e-4, max_iter=iters))\n",
    "                    ])\n",
    "        \n",
    "        self.classifier_good = Pipeline([(\"vect\", CountVectorizer(ngram_range=ngram_range)),\n",
    "                    (\"tfidf\", TfidfTransformer(sublinear_tf=True)),\n",
    "                    (\"sgd\", SGDClassifier(loss='modified_huber', penalty='l2', alpha=1e-4, max_iter=iters))\n",
    "                    ])\n",
    "        \n",
    "    def fit(self, X_tr, y_tr):\n",
    "        split = self.split\n",
    "        y_tr_class = y_tr >= split\n",
    "        X_tr_good = X_tr[y_tr >= split]\n",
    "        y_tr_good = y_tr[y_tr >= split]\n",
    "        X_tr_bad = X_tr[y_tr < split]\n",
    "        y_tr_bad = y_tr[y_tr < split]\n",
    "        \n",
    "        for i, (good_ind, bad_ind) in enumerate(zip(range(split, 11), range(5, 10 - split - 1, -1))):\n",
    "            num = len(y_tr[y_tr == bad_ind])\n",
    "            X_good_add = np.random.choice(X_tr[y_tr == good_ind], num)\n",
    "            X_tr_bad = np.append(X_tr_bad, X_good_add)\n",
    "            y_tr_bad = np.append(y_tr_bad, np.array([good_ind] * num))\n",
    "        \n",
    "        cnt = Counter(y_tr_bad)\n",
    "        plt.bar(list(cnt), list(cnt.values()))\n",
    "        plt.show()\n",
    "            \n",
    "        self.classifier.fit(X_tr, y_tr_class)\n",
    "        self.regressor_bad.fit(X_tr_bad, y_tr_bad)\n",
    "        self.regressor_good.fit(X_tr_good, y_tr_good)\n",
    "        self.classifier_good.fit(X_tr_good, y_tr_good)\n",
    "        \n",
    "    def predict(self, X_te):\n",
    "        goodnes_prob = self.classifier.predict_proba(X_te)\n",
    "\n",
    "        y_pr_bad = self.regressor_bad.predict(X_te)\n",
    "        y_pr_good = self.regressor_good.predict(X_te)\n",
    "        y_pr = goodnes_prob[:, 0] * y_pr_bad + goodnes_prob[:, 1] * y_pr_good\n",
    "\n",
    "        class_pred = self.classifier.predict(X_te)\n",
    "        y_pr = class_pred * self.classifier_good.predict(X_te) + (1 - class_pred) * self.regressor_bad.predict(X_te)\n",
    "        \n",
    "        y_pr[class_pred == 1] = self.classifier_good.predict(X_te)[class_pred == 1]\n",
    "\n",
    "        y_pr = np.clip(y_pr, a_max=10, a_min=0)\n",
    "        y_pr = np.array(y_pr, dtype=np.int32)\n",
    "        return y_pr"
   ]
  },
  {
   "cell_type": "code",
   "execution_count": 231,
   "metadata": {},
   "outputs": [
    {
     "data": {
      "image/png": "[encoded data removed]",
      "text/plain": [
       "<Figure size 432x288 with 1 Axes>"
      ]
     },
     "metadata": {
      "needs_background": "light"
     },
     "output_type": "display_data"
    },
    {
     "name": "stderr",
     "output_type": "stream",
     "text": [
      "/Users/aleksandr.khvorov/anaconda3/lib/python3.7/site-packages/sklearn/linear_model/stochastic_gradient.py:1185: ConvergenceWarning: Maximum number of iteration reached before convergence. Consider increasing max_iter to improve the fit.\n",
      "  ConvergenceWarning)\n"
     ]
    },
    {
     "name": "stdout",
     "output_type": "stream",
     "text": [
      "0.8603155567248898\n",
      "1.9544820285692064\n",
      "\n",
      "1.3094783474039382\n",
      "2.9208852127969136\n"
     ]
    },
    {
     "data": {
      "image/png": "[encoded data removed]",
      "text/plain": [
       "<Figure size 432x288 with 1 Axes>"
      ]
     },
     "metadata": {
      "needs_background": "light"
     },
     "output_type": "display_data"
    }
   ],
   "source": [
    "split=8\n",
    "model = MyEst(split=split, ngram_range=(1,2), iters=500)\n",
    "model.fit(X_tr, y_tr)\n",
    "print(mean_squared_error(model.predict(X_tr), y_tr) ** 0.5)\n",
    "y_pr = model.predict(X_te)\n",
    "print(mean_squared_error(y_pr, y_te) ** 0.5)\n",
    "print()\n",
    "print(mean_squared_error(y_pr[y_te >= split], y_te[y_te >= split]) ** 0.5)\n",
    "print(mean_squared_error(y_pr[y_te < split], y_te[y_te < split]) ** 0.5)\n",
    "# print(np.mean(model.predict(X_te) == np.array(y_te >= 8, dtype=np.bool8))) Score: 0.779\n",
    "cnt = Counter(y_pr)\n",
    "plt.bar(list(cnt), list(cnt.values()))\n",
    "plt.show()"
   ]
  },
  {
   "cell_type": "code",
   "execution_count": 210,
   "metadata": {},
   "outputs": [
    {
     "name": "stdout",
     "output_type": "stream",
     "text": [
      "[9, 10, 5, 8, 6, 4, 7, 3, 2] [1579, 1977, 482, 1016, 682, 99, 157, 5, 3]\n"
     ]
    },
    {
     "data": {
      "text/plain": [
       "<BarContainer object of 9 artists>"
      ]
     },
     "execution_count": 210,
     "metadata": {},
     "output_type": "execute_result"
    },
    {
     "data": {
      "image/png": "[encoded data removed]",
      "text/plain": [
       "<Figure size 432x288 with 1 Axes>"
      ]
     },
     "metadata": {
      "needs_background": "light"
     },
     "output_type": "display_data"
    }
   ],
   "source": [
    "# y_pr = model.predict(X_te)\n",
    "cnt = Counter(y_pr)\n",
    "plt.bar(list(cnt), list(cnt.values()))"
   ]
  },
  {
   "cell_type": "code",
   "execution_count": 169,
   "metadata": {},
   "outputs": [
    {
     "data": {
      "text/plain": [
       "5.031749605944607"
      ]
     },
     "execution_count": 169,
     "metadata": {},
     "output_type": "execute_result"
    }
   ],
   "source": [
    "np.mean(y_tr[y_tr < 8])"
   ]
  },
  {
   "cell_type": "code",
   "execution_count": 227,
   "metadata": {},
   "outputs": [
    {
     "data": {
      "image/png": "[encoded data removed]",
      "text/plain": [
       "<Figure size 432x288 with 1 Axes>"
      ]
     },
     "metadata": {
      "needs_background": "light"
     },
     "output_type": "display_data"
    },
    {
     "name": "stderr",
     "output_type": "stream",
     "text": [
      "/Users/aleksandr.khvorov/anaconda3/lib/python3.7/site-packages/sklearn/linear_model/stochastic_gradient.py:1185: ConvergenceWarning: Maximum number of iteration reached before convergence. Consider increasing max_iter to improve the fit.\n",
      "  ConvergenceWarning)\n"
     ]
    }
   ],
   "source": [
    "model = MyEst(split=split, ngram_range=(1,2), iters=500)\n",
    "model.fit(X_all, y_all)\n",
    "X_test = read_test()\n",
    "y_pred = model.predict(X_test)\n",
    "y_pred = np.clip(y_pred, a_max=10, a_min=0)\n",
    "y_pred = np.array(y_pred, dtype=np.int32)\n",
    "with open(\"out.txt\", 'w') as f:\n",
    "    f.write(\"\\n\".join(map(lambda x: str(int(x)), y_pred)))"
   ]
  },
  {
   "cell_type": "code",
   "execution_count": null,
   "metadata": {},
   "outputs": [],
   "source": []
  }
 ],
 "metadata": {
  "kernelspec": {
   "display_name": "Python 3",
   "language": "python",
   "name": "python3"
  },
  "language_info": {
   "codemirror_mode": {
    "name": "ipython",
    "version": 3
   },
   "file_extension": ".py",
   "mimetype": "text/x-python",
   "name": "python",
   "nbconvert_exporter": "python",
   "pygments_lexer": "ipython3",
   "version": "3.7.3"
  }
 },
 "nbformat": 4,
 "nbformat_minor": 4
}
